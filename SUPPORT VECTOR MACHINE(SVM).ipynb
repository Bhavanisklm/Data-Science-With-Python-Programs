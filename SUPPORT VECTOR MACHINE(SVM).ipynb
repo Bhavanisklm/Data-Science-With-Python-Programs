{
 "cells": [
  {
   "cell_type": "code",
   "execution_count": 3,
   "metadata": {},
   "outputs": [
    {
     "data": {
      "text/plain": [
       "<matplotlib.collections.PathCollection at 0x1d474628588>"
      ]
     },
     "execution_count": 3,
     "metadata": {},
     "output_type": "execute_result"
    },
    {
     "data": {
      "image/png": "[encoded data removed]",
      "text/plain": [
       "<Figure size 432x288 with 1 Axes>"
      ]
     },
     "metadata": {
      "needs_background": "light"
     },
     "output_type": "display_data"
    }
   ],
   "source": [
    "import numpy as np\n",
    "import matplotlib.pyplot as plt\n",
    "from sklearn import svm\n",
    "x=np.array([[3.2,1],[2.2,3],[5.3,4],[6.5,3],[4.5,2],[2.4,1],[7.8,6],[6.4,7],[8.9,9],[9.0,7],[5.2,0]])\n",
    "y=[0]*6+[1]*5\n",
    "plt.scatter(x[:,0],x[:,1],c=y,s=50,alpha=0.9)"
   ]
  },
  {
   "cell_type": "code",
   "execution_count": 10,
   "metadata": {},
   "outputs": [],
   "source": [
    "x=np.array([[2,1],[2.2,3],[5.3,4],[6.5,3],[4.5,2],[2.4,1],[7.8,6],[6.4,7],[8.9,9],[9.0,7],[5.2,0]])\n",
    "y=[0]*6+[1]*5\n",
    "svc=svm.SVC(kernel='linear').fit(x,y)\n",
    "x,y=np.mgrid[0:4:200j,0:4:200j]"
   ]
  },
  {
   "cell_type": "code",
   "execution_count": null,
   "metadata": {},
   "outputs": [],
   "source": []
  },
  {
   "cell_type": "code",
   "execution_count": null,
   "metadata": {},
   "outputs": [],
   "source": []
  }
 ],
 "metadata": {
  "kernelspec": {
   "display_name": "Python 3",
   "language": "python",
   "name": "python3"
  },
  "language_info": {
   "codemirror_mode": {
    "name": "ipython",
    "version": 3
   },
   "file_extension": ".py",
   "mimetype": "text/x-python",
   "name": "python",
   "nbconvert_exporter": "python",
   "pygments_lexer": "ipython3",
   "version": "3.7.4"
  }
 },
 "nbformat": 4,
 "nbformat_minor": 2
}
