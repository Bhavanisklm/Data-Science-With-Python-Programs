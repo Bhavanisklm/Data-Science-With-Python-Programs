{
 "cells": [
  {
   "cell_type": "code",
   "execution_count": 2,
   "metadata": {},
   "outputs": [
    {
     "ename": "IndentationError",
     "evalue": "unexpected indent (<ipython-input-2-9c30bf83d3bf>, line 7)",
     "output_type": "error",
     "traceback": [
      "\u001b[1;36m  File \u001b[1;32m\"<ipython-input-2-9c30bf83d3bf>\"\u001b[1;36m, line \u001b[1;32m7\u001b[0m\n\u001b[1;33m    def getURL(page)\u001b[0m\n\u001b[1;37m    ^\u001b[0m\n\u001b[1;31mIndentationError\u001b[0m\u001b[1;31m:\u001b[0m unexpected indent\n"
     ]
    }
   ],
   "source": [
    "import urlib.request\n",
    "url=\"https:/rgukt.in/\"\n",
    "resp=urlib.request.urlopen(url)\n",
    "page1=resp.read()\n",
    "page=str(page1)\n",
    "#print(page)\n",
    "def getURL(page)\n",
    "start_link=page.find(\"<a href\")\n",
    "start_quote=page.find(\"\",start_link)\n",
    "end_quote=page.find(\"\",start_quote+1)\n",
    "url=page[start-quote+1:end_quote]\n",
    "#print(url)\n",
    "#getURL(page)\n",
    "retuen url,end quote\n",
    "while True:\n",
    "    url,n=getURL(page)\n",
    "    page=page[n:]\n",
    "    #print page\n",
    "    if url:\n",
    "        print(url)\n",
    "        else:\n",
    "            break\n",
    "import requests\n",
    "#making a get request\n",
    "page=request.get(\"https://www.rguktsklm.ac.in\")\n",
    "#check status code for  response received\n",
    "#success code-200\n",
    "print(page)\n",
    "#print content of request \n",
    "#print(r.content)\n",
    "print(page.url)"
   ]
  },
  {
   "cell_type": "code",
   "execution_count": null,
   "metadata": {},
   "outputs": [],
   "source": []
  }
 ],
 "metadata": {
  "kernelspec": {
   "display_name": "Python 3",
   "language": "python",
   "name": "python3"
  },
  "language_info": {
   "codemirror_mode": {
    "name": "ipython",
    "version": 3
   },
   "file_extension": ".py",
   "mimetype": "text/x-python",
   "name": "python",
   "nbconvert_exporter": "python",
   "pygments_lexer": "ipython3",
   "version": "3.7.4"
  }
 },
 "nbformat": 4,
 "nbformat_minor": 2
}
